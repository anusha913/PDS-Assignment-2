{
 "cells": [
  {
   "cell_type": "code",
   "execution_count": 1,
   "id": "dee97970",
   "metadata": {},
   "outputs": [],
   "source": [
    "import pandas as pd\n",
    "\n",
    "# Load  dataset\n",
    "data = pd.read_csv(r\"C:\\Users\\User\\Desktop\\FALL_SEM\\PDS\\Assignment_2\\Task1\\Task_1_output.csv\") \n",
    "\n",
    "# Specify the columns to one-hot encode\n",
    "columns_to_encode = [\"Fuel_Type\", \"Transmission\"]\n",
    "\n",
    "# Use pd.get_dummies to perform one-hot encoding\n",
    "data = pd.get_dummies(data, columns=columns_to_encode)\n",
    "\n",
    "# Save the modified data to a new CSV file\n",
    "data.to_csv(\"C:/Users/User/Desktop/FALL_SEM/PDS/Assignment_2/Task3/Task_3_output.csv\")\n"
   ]
  },
  {
   "cell_type": "code",
   "execution_count": null,
   "id": "08374e8f",
   "metadata": {},
   "outputs": [],
   "source": []
  },
  {
   "cell_type": "code",
   "execution_count": null,
   "id": "ebbd22c6",
   "metadata": {},
   "outputs": [],
   "source": []
  }
 ],
 "metadata": {
  "kernelspec": {
   "display_name": "Python 3 (ipykernel)",
   "language": "python",
   "name": "python3"
  },
  "language_info": {
   "codemirror_mode": {
    "name": "ipython",
    "version": 3
   },
   "file_extension": ".py",
   "mimetype": "text/x-python",
   "name": "python",
   "nbconvert_exporter": "python",
   "pygments_lexer": "ipython3",
   "version": "3.11.4"
  }
 },
 "nbformat": 4,
 "nbformat_minor": 5
}
