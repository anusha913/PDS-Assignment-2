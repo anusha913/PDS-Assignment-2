{
 "cells": [
  {
   "cell_type": "code",
   "execution_count": 11,
   "id": "9e467458",
   "metadata": {},
   "outputs": [],
   "source": [
    "import pandas as pd\n",
    "\n",
    "# Load your dataset\n",
    "data = pd.read_csv(r\"C:\\Users\\User\\Desktop\\FALL_SEM\\PDS\\Assignment_2\\Task1\\Task_1_output.csv\")\n",
    "\n",
    "# Calculate the \"Age\" based on the \"Year\" column\n",
    "current_year = 2023  # You can use the current year or a reference year\n",
    "data['Age'] = current_year - data['Year']\n",
    "\n",
    "# Create a new feature \"Kilometers_Per_Year\" based on \"Kilometers_Driven\" and \"Age\"\n",
    "data['Kilometers_Per_Year'] = data['Kilometers_Driven'] / data['Age']\n",
    "\n",
    "# Save the modified data to a new CSV file\n",
    "data.to_csv(r\"C:\\Users\\User\\Desktop\\FALL_SEM\\PDS\\Assignment_2\\Task4\\Task_4_output.csv\", index=False)\n"
   ]
  },
  {
   "cell_type": "code",
   "execution_count": null,
   "id": "97eeef18",
   "metadata": {},
   "outputs": [],
   "source": []
  },
  {
   "cell_type": "code",
   "execution_count": null,
   "id": "ddd5dadb",
   "metadata": {},
   "outputs": [],
   "source": []
  }
 ],
 "metadata": {
  "kernelspec": {
   "display_name": "Python 3 (ipykernel)",
   "language": "python",
   "name": "python3"
  },
  "language_info": {
   "codemirror_mode": {
    "name": "ipython",
    "version": 3
   },
   "file_extension": ".py",
   "mimetype": "text/x-python",
   "name": "python",
   "nbconvert_exporter": "python",
   "pygments_lexer": "ipython3",
   "version": "3.11.4"
  }
 },
 "nbformat": 4,
 "nbformat_minor": 5
}
