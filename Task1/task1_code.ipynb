{
 "cells": [
  {
   "cell_type": "code",
   "execution_count": 5,
   "id": "d8391c06",
   "metadata": {},
   "outputs": [
    {
     "name": "stdout",
     "output_type": "stream",
     "text": [
      "Columns with Missing Values:\n",
      "Mileage         2\n",
      "Engine         36\n",
      "Power          36\n",
      "Seats          38\n",
      "New_Price    5032\n",
      "dtype: int64\n"
     ]
    }
   ],
   "source": [
    "import pandas as pd\n",
    "\n",
    "# Load the dataset\n",
    "data = pd.read_csv(r\"C:\\Users\\User\\Desktop\\FALL_SEM\\PDS\\Assignment_2\\Task2\\Task_2_output.csv\")\n",
    "\n",
    "# Checking for missing values in the dataset\n",
    "missing_values = data.isnull().sum()\n",
    "\n",
    "# Identify columns with missing values and their respective counts\n",
    "missing_columns = missing_values[missing_values > 0]\n",
    "print(\"Columns with Missing Values:\")\n",
    "print(missing_columns)\n",
    "\n",
    "# Handled missing values for numerical columns by imputing with mean\n",
    "numerical_columns = ['Mileage', 'Engine', 'Power', 'Seats']\n",
    "for col in numerical_columns:\n",
    "    data[col] = data[col].fillna(data[col].mean())\n",
    "\n",
    "# Dropped columns with a high percentage of missing values ('New_Price')\n",
    "data.drop(columns=['New_Price'], inplace=True)\n",
    "\n",
    "# Saved the modified data to a new CSV file\n",
    "data.to_csv('C:/Users/User/Desktop/FALL_SEM\\PDS/Assignment_2/Task1/Task_1_output.csv')"
   ]
  },
  {
   "cell_type": "code",
   "execution_count": 2,
   "id": "f3d7cdac",
   "metadata": {},
   "outputs": [
    {
     "name": "stdout",
     "output_type": "stream",
     "text": [
      "Columns with Missing Values After Filling:\n",
      "Unnamed: 0           0\n",
      "Name                 0\n",
      "Location             0\n",
      "Year                 0\n",
      "Kilometers_Driven    0\n",
      "Fuel_Type            0\n",
      "Transmission         0\n",
      "Owner_Type           0\n",
      "Mileage              0\n",
      "Engine               0\n",
      "Power                0\n",
      "Seats                0\n",
      "Price                0\n",
      "dtype: int64\n"
     ]
    }
   ],
   "source": [
    "\n",
    "# Checked for missing values in the dataset after filling mean and dropping column\n",
    "missing_values_after_filling = data.isnull().sum()\n",
    "print(\"Columns with Missing Values After Filling:\")\n",
    "print(missing_values_after_filling)"
   ]
  },
  {
   "cell_type": "code",
   "execution_count": null,
   "id": "94349c10",
   "metadata": {},
   "outputs": [],
   "source": []
  }
 ],
 "metadata": {
  "kernelspec": {
   "display_name": "Python 3 (ipykernel)",
   "language": "python",
   "name": "python3"
  },
  "language_info": {
   "codemirror_mode": {
    "name": "ipython",
    "version": 3
   },
   "file_extension": ".py",
   "mimetype": "text/x-python",
   "name": "python",
   "nbconvert_exporter": "python",
   "pygments_lexer": "ipython3",
   "version": "3.11.4"
  }
 },
 "nbformat": 4,
 "nbformat_minor": 5
}
