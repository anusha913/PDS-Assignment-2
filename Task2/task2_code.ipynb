{
 "cells": [
  {
   "cell_type": "code",
   "execution_count": 2,
   "id": "0a1198bf",
   "metadata": {},
   "outputs": [],
   "source": [
    "import pandas as pd\n",
    "\n",
    "# Load the dataset\n",
    "data = pd.read_csv(r\"C:\\Users\\User\\Desktop\\FALL_SEM\\PDS\\Assignment_2\\Data_raw\\train.csv\")\n",
    "\n",
    "# Remove units ( kmpl, CC, bhp, lakh) from the relevant columns\n",
    "data['Mileage'] = data['Mileage'].str.replace(' kmpl', '')\n",
    "data['Mileage'] = data['Mileage'].str.replace(' km/kg', '')\n",
    "data['Engine'] = data['Engine'].str.replace(' CC', '')\n",
    "data['Power'] = data['Power'].str.replace(' bhp', '')\n",
    "data['New_Price'] = data['New_Price'].str.replace(' Lakh', '')\n",
    "\n",
    "# Saved the modified data to a new CSV file\n",
    "data.to_csv('C:/Users/User/Desktop/FALL_SEM/PDS/Assignment_2/Task2/Task_2_output.csv')"
   ]
  },
  {
   "cell_type": "code",
   "execution_count": null,
   "id": "26732cef",
   "metadata": {},
   "outputs": [],
   "source": []
  },
  {
   "cell_type": "code",
   "execution_count": null,
   "id": "9839d346",
   "metadata": {},
   "outputs": [],
   "source": []
  },
  {
   "cell_type": "code",
   "execution_count": null,
   "id": "870387ff",
   "metadata": {},
   "outputs": [],
   "source": []
  },
  {
   "cell_type": "code",
   "execution_count": null,
   "id": "f9d51591",
   "metadata": {},
   "outputs": [],
   "source": []
  },
  {
   "cell_type": "code",
   "execution_count": null,
   "id": "fa926397",
   "metadata": {},
   "outputs": [],
   "source": []
  }
 ],
 "metadata": {
  "kernelspec": {
   "display_name": "Python 3 (ipykernel)",
   "language": "python",
   "name": "python3"
  },
  "language_info": {
   "codemirror_mode": {
    "name": "ipython",
    "version": 3
   },
   "file_extension": ".py",
   "mimetype": "text/x-python",
   "name": "python",
   "nbconvert_exporter": "python",
   "pygments_lexer": "ipython3",
   "version": "3.11.4"
  }
 },
 "nbformat": 4,
 "nbformat_minor": 5
}
